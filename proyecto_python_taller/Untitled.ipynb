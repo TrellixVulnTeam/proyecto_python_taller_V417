{
 "cells": [
  {
   "cell_type": "code",
   "execution_count": 1,
   "metadata": {},
   "outputs": [
    {
     "name": "stdout",
     "output_type": "stream",
     "text": [
      "proyecto python taller - cristian saavedra\n"
     ]
    }
   ],
   "source": [
    "print(\"proyecto python taller - cristian saavedra\")"
   ]
  },
  {
   "cell_type": "code",
   "execution_count": 9,
   "metadata": {},
   "outputs": [
    {
     "name": "stdout",
     "output_type": "stream",
     "text": [
      "ingrese fecha inicio: 2015-03\n",
      "ingrese fecha final: 2015-09\n",
      "listo\n"
     ]
    }
   ],
   "source": [
    "import requests\n",
    "\n",
    "fecha1=input(\"ingrese fecha inicio: \")\n",
    "fecha1=fecha1.split(\"-\")\n",
    "anio1=fecha1[0]\n",
    "mes1=fecha1[1]\n",
    "\n",
    "fecha2=input(\"ingrese fecha final: \")\n",
    "fecha2=fecha2.split(\"-\")\n",
    "anio2=fecha2[0]\n",
    "mes2=fecha2[1]\n",
    "\n",
    "apikey=\"4e6aea254e20d68a9c1bae80c44383abb5d7caf6\"\n",
    "endpoint=\"https://api.sbif.cl/api-sbifv3/recursos_api/tmc/periodo/\"\n",
    "\n",
    "url=endpoint+anio1+\"/\"+mes1+\"/\"+anio2+\"/\"+mes2\n",
    "parametros={\"apikey\":apikey, \"formato\":\"json\"}\n",
    "\n",
    "respuesta=requests.get(url, params=parametros)\n",
    "respuesta=respuesta.json()\n",
    "archivo=open(\"Tasa_maxima_convencional.txt\", \"w\")\n",
    "\n",
    "for Valor in respuesta[\"TMCs\"]:\n",
    "    archivo.write(str(Valor)+\"\\n\")\n",
    "archivo.close()\n",
    "print(\"listo\")\n"
   ]
  },
  {
   "cell_type": "code",
   "execution_count": 14,
   "metadata": {},
   "outputs": [
    {
     "name": "stdout",
     "output_type": "stream",
     "text": [
      "El promedio de la TMC entre la fecha de inicio y fin es:  16.19%\n",
      "La desviación estándar de la TMC entre la fecha de inicio y fin es:  12.32\n"
     ]
    }
   ],
   "source": [
    "from ast import literal_eval\n",
    "import statistics\n",
    "\n",
    "lista_Valor=list()\n",
    "archivo=open(\"Tasa_maxima_convencional.txt\", \"r\")\n",
    "for linea in archivo:\n",
    "    lista=literal_eval(linea)\n",
    "    lista_Valor.append(float(lista[\"Valor\"].replace(\",\",\".\")))\n",
    "archivo.close()\n",
    "promedio=statistics.mean(lista_Valor)\n",
    "desviacion=statistics.stdev(lista_Valor)\n",
    "print(\"El promedio de la TMC entre la fecha de inicio y fin es: \" , str(round(promedio, 2)) + \"%\")\n",
    "print(\"La desviación estándar de la TMC entre la fecha de inicio y fin es: \",str(round(desviacion, 2)))"
   ]
  },
  {
   "cell_type": "code",
   "execution_count": 17,
   "metadata": {},
   "outputs": [
    {
     "name": "stdout",
     "output_type": "stream",
     "text": [
      "listo!!\n"
     ]
    }
   ],
   "source": [
    "archivo=open(\"Instrucciones del Programa.txt\",\"w\")\n",
    "archivo.write(\"Instrucciones del Programa - Taller Python - Cristian Saavedra\\n\")\n",
    "archivo.write(\"Objetivo del Programa\\n\")\n",
    "archivo.write(\"El programa permite ver las variaciones de la Tasa Máxima Convencional informada por la SBIF\\n\" \". Solicita como parámetro la fecha de incio y fin de la consulta\\n\")\n",
    "archivo.write(\"Con los parámetros ingresados entregará cuál fue el promedio de la TMC y cuál fue su desviación estándar en el período consultado\\n\")\n",
    "archivo.write(\"Paso a paso\\n\")\n",
    "archivo.write(\"1. Ingresar fecha de inicio con formato año(aaaa)-mes(mm)\\n\")\n",
    "archivo.write(\"2. Ingresar fecha de final con formato año(aaaa)-mes(mm)\\n\")\n",
    "archivo.write(\"3. Con las fechas del período el programa devolverá el promedio y desviación de la TMC\\n\")\n",
    "archivo.close()\n",
    "print(\"listo!!\")"
   ]
  },
  {
   "cell_type": "code",
   "execution_count": null,
   "metadata": {},
   "outputs": [],
   "source": []
  }
 ],
 "metadata": {
  "kernelspec": {
   "display_name": "Python 3",
   "language": "python",
   "name": "python3"
  },
  "language_info": {
   "codemirror_mode": {
    "name": "ipython",
    "version": 3
   },
   "file_extension": ".py",
   "mimetype": "text/x-python",
   "name": "python",
   "nbconvert_exporter": "python",
   "pygments_lexer": "ipython3",
   "version": "3.7.4"
  }
 },
 "nbformat": 4,
 "nbformat_minor": 2
}
