{
 "cells": [
  {
   "cell_type": "code",
   "execution_count": 1,
   "metadata": {},
   "outputs": [
    {
     "name": "stdout",
     "output_type": "stream",
     "text": [
      "proyecto python taller - cristian saavedra\n"
     ]
    }
   ],
   "source": [
    "print(\"proyecto python taller - cristian saavedra\")"
   ]
  },
  {
   "cell_type": "code",
   "execution_count": 9,
   "metadata": {},
   "outputs": [
    {
     "name": "stdout",
     "output_type": "stream",
     "text": [
      "ingrese fecha inicio: 2015-03\n",
      "ingrese fecha final: 2015-09\n",
      "listo\n"
     ]
    }
   ],
   "source": [
    "import requests\n",
    "\n",
    "fecha1=input(\"ingrese fecha inicio: \")\n",
    "fecha1=fecha1.split(\"-\")\n",
    "anio1=fecha1[0]\n",
    "mes1=fecha1[1]\n",
    "\n",
    "fecha2=input(\"ingrese fecha final: \")\n",
    "fecha2=fecha2.split(\"-\")\n",
    "anio2=fecha2[0]\n",
    "mes2=fecha2[1]\n",
    "\n",
    "apikey=\"4e6aea254e20d68a9c1bae80c44383abb5d7caf6\"\n",
    "endpoint=\"https://api.sbif.cl/api-sbifv3/recursos_api/tmc/periodo/\"\n",
    "\n",
    "url=endpoint+anio1+\"/\"+mes1+\"/\"+anio2+\"/\"+mes2\n",
    "parametros={\"apikey\":apikey, \"formato\":\"json\"}\n",
    "\n",
    "respuesta=requests.get(url, params=parametros)\n",
    "respuesta=respuesta.json()\n",
    "archivo=open(\"Tasa_maxima_convencional.txt\", \"w\")\n",
    "\n",
    "for Valor in respuesta[\"TMCs\"]:\n",
    "    archivo.write(str(Valor)+\"\\n\")\n",
    "archivo.close()\n",
    "print(\"listo\")\n"
   ]
  },
  {
   "cell_type": "code",
   "execution_count": 1,
   "metadata": {},
   "outputs": [
    {
     "name": "stdout",
     "output_type": "stream",
     "text": [
      "16.190952380952382\n"
     ]
    }
   ],
   "source": [
    "from ast import literal_eval\n",
    "import statistics\n",
    "\n",
    "lista_Valor=list()\n",
    "archivo=open(\"Tasa_maxima_convencional.txt\", \"r\")\n",
    "for linea in archivo:\n",
    "    lista=literal_eval(linea)\n",
    "    lista_Valor.append(float(lista[\"Valor\"].replace(\",\",\".\")))\n",
    "archivo.close()\n",
    "promedio=statistics.mean(lista_Valor)\n",
    "print(promedio)"
   ]
  },
  {
   "cell_type": "code",
   "execution_count": null,
   "metadata": {},
   "outputs": [],
   "source": []
  }
 ],
 "metadata": {
  "kernelspec": {
   "display_name": "Python 3",
   "language": "python",
   "name": "python3"
  },
  "language_info": {
   "codemirror_mode": {
    "name": "ipython",
    "version": 3
   },
   "file_extension": ".py",
   "mimetype": "text/x-python",
   "name": "python",
   "nbconvert_exporter": "python",
   "pygments_lexer": "ipython3",
   "version": "3.7.4"
  }
 },
 "nbformat": 4,
 "nbformat_minor": 2
}
